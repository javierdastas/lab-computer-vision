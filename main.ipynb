{
 "cells": [
  {
   "cell_type": "markdown",
   "metadata": {
    "id": "ZaLHjbgl4sdC",
    "jp-MarkdownHeadingCollapsed": true
   },
   "source": [
    "# Computer Vision (Image operators and filters)\n",
    "\n",
    "By the end of this lab, you will get hands on experience working with:\n",
    "\n",
    "*   Image Handling\n",
    "*   Image Manipulation\n",
    "*   Histogram and Histogram Equalization\n",
    "*   Basic filtering techniques\n",
    "\n",
    "<!-- ### **Remember this is a graded exercise.** -->\n",
    "\n",
    "**Reminder**:\n",
    "\n",
    "*   For every plot, make sure you provide appropriate titles, axis labels, legends, wherever applicable.\n",
    "*   Add sufficient comments and explanations wherever necessary.\n",
    "\n",
    "---\n"
   ]
  },
  {
   "cell_type": "code",
   "execution_count": null,
   "metadata": {
    "id": "BuqI1scQ4imT"
   },
   "outputs": [],
   "source": [
    "# Loading necessary libraries (Feel free to add new libraries if you need for any computation)\n",
    "\n",
    "import numpy as np\n",
    "from matplotlib import pyplot as plt\n",
    "from skimage import data, exposure, filters, io, morphology, color"
   ]
  },
  {
   "attachments": {},
   "cell_type": "markdown",
   "metadata": {
    "id": "OV5XxAg85xJ_"
   },
   "source": [
    "# Channels and color spaces\n",
    "\n",
    "### **Exercise: Image Creation and Color Manipulation**\n",
    "\n",
    "*   Create a 100 x 100 image for each of the below visualization\n",
    "\n",
    "\n",
    "\n",
    "*   Visualize the created images in a 1 x 3 subplot using matplotlib.\n"
   ]
  },
  {
   "cell_type": "code",
   "execution_count": null,
   "metadata": {
    "id": "SvftuOlr5woU"
   },
   "outputs": [],
   "source": [
    "import numpy as np\n",
    "from matplotlib import pyplot as plt\n",
    "\n",
    "# Create a 100x100\n",
    "first_image = np.zeros((100, 100), dtype=np.uint8)\n",
    "first_image[:,51:100] = 255  # Set the white color\n",
    "\n",
    "# Create a 100x100 \n",
    "second_image = np.zeros((100, 100), dtype=np.uint8)\n",
    "second_image[51:100] = 255  # Set the white color\n",
    "\n",
    "# Create a 100x100 \n",
    "third_image = np.zeros((100, 100), dtype=np.uint8)\n",
    "third_image[:50,:50] = 255  # Set the white color\n",
    "\n",
    "# Visualize the images in a 1x3 subplot\n",
    "plt.figure(figsize=(12, 4), facecolor='#2E2E2E')  # Fondo del canvas\n",
    "\n",
    "plt.subplot(1, 3, 1)\n",
    "plt.imshow(first_image, cmap='gray')\n",
    "plt.title(\"First Image\")\n",
    "plt.axis('off')\n",
    "\n",
    "plt.subplot(1, 3, 2)\n",
    "plt.imshow(second_image, cmap='gray')\n",
    "plt.title(\"Second Image\")\n",
    "plt.axis('off')\n",
    "\n",
    "plt.subplot(1, 3, 3)\n",
    "plt.imshow(third_image, cmap='gray')\n",
    "plt.title(\"Third Image\")\n",
    "plt.axis('off')\n",
    "\n",
    "plt.tight_layout()\n",
    "plt.show()"
   ]
  },
  {
   "attachments": {},
   "cell_type": "markdown",
   "metadata": {
    "id": "kJ52BL-WrWV-"
   },
   "source": [
    "*   Use the above three images to create the following image\n",
    "\n",
    "\n",
    "*Hint: Remember channels and color spaces*"
   ]
  },
  {
   "cell_type": "code",
   "execution_count": null,
   "metadata": {
    "id": "VjFNuJ4Rraiw"
   },
   "outputs": [],
   "source": [
    "# Create an RGB image (initially black)\n",
    "combined_image = np.zeros((100, 100, 3), dtype=np.uint8)\n",
    "\n",
    "# Assign colors to the quadrants using the images as masks\n",
    "# Blue (top-left quadrant)\n",
    "combined_image[:, :50, 2] = third_image[:, :50]  # Blue channel\n",
    "\n",
    "# Red (top-right quadrant)\n",
    "combined_image[:, 51:100, 0] = first_image[:, 51:100]  # Red channel\n",
    "\n",
    "# Green (bottom-left quadrant)\n",
    "combined_image[51:100, :, 1] = second_image[51:100, :]  # Green channel\n",
    "\n",
    "# Yellow (bottom-right quadrant: combination of red and green)\n",
    "combined_image[51:100, 51:100, 0] = 255  # Red channel\n",
    "combined_image[51:100, 51:100, 1] = 255  # Green channel\n",
    "\n",
    "# Display the combined image\n",
    "plt.imshow(combined_image)\n",
    "plt.title(\"Combined Image (Blue, Red, Green, Yellow)\")\n",
    "plt.axis('off')\n",
    "plt.show()"
   ]
  },
  {
   "attachments": {},
   "cell_type": "markdown",
   "metadata": {
    "id": "e3jnTbnqIkN_"
   },
   "source": [
    "### **Exercise: Color Manipulation**\n",
    "\n",
    "*   Read the image 'sillas.jpg' from the images folder\n",
    "\n",
    "\n",
    "\n",
    "*   Extract individual channels and plot them using matplotlib subplot.\n",
    "\n"
   ]
  },
  {
   "cell_type": "code",
   "execution_count": null,
   "metadata": {
    "id": "6T8NHYIAJ7fr"
   },
   "outputs": [],
   "source": [
    "import matplotlib.pyplot as plt\n",
    "import cv2\n",
    "\n",
    "# Read the image\n",
    "image = cv2.imread('./images/sillas.jpg')  # Replace with the correct path to your image\n",
    "image_rgb = cv2.cvtColor(image, cv2.COLOR_BGR2RGB)  # Convert BGR to RGB (OpenCV uses BGR)\n",
    "\n",
    "# Extract individual color channels\n",
    "red_channel = image_rgb[:, :, 0]  # Red channel\n",
    "green_channel = image_rgb[:, :, 1]  # Green channel\n",
    "blue_channel = image_rgb[:, :, 2]  # Blue channel\n",
    "\n",
    "# Display the original image and the individual channels\n",
    "plt.figure(figsize=(12, 8))\n",
    "\n",
    "# Original image\n",
    "plt.subplot(2, 2, 1)\n",
    "plt.imshow(image_rgb)\n",
    "plt.title(\"Original Image\")\n",
    "plt.axis('off')  # Hide the axes\n",
    "\n",
    "# Red channel\n",
    "plt.subplot(2, 2, 2)\n",
    "plt.imshow(red_channel, cmap='Reds')  # Use a red colormap for visualization\n",
    "plt.title(\"Red Channel\")\n",
    "plt.axis('off')\n",
    "\n",
    "# Green channel\n",
    "plt.subplot(2, 2, 3)\n",
    "plt.imshow(green_channel, cmap='Greens')  # Use a green colormap for visualization\n",
    "plt.title(\"Green Channel\")\n",
    "plt.axis('off')\n",
    "\n",
    "# Blue channel\n",
    "plt.subplot(2, 2, 4)\n",
    "plt.imshow(blue_channel, cmap='Blues')  # Use a blue colormap for visualization\n",
    "plt.title(\"Blue Channel\")\n",
    "plt.axis('off')\n",
    "\n",
    "# Adjust layout and show the plot\n",
    "plt.tight_layout()\n",
    "plt.show()"
   ]
  },
  {
   "cell_type": "markdown",
   "metadata": {
    "id": "v2KsIGB8shvy"
   },
   "source": [
    "*   The color **red** looks too bright for the eyes. Isn't it?? Lets change the color and see how it appears.\n",
    "    *    Create a new image where everything that is **'red' is changed to 'blue'**.\n",
    "*   Visualize the original image and the created image using matplotlib subplot."
   ]
  },
  {
   "cell_type": "code",
   "execution_count": null,
   "metadata": {
    "id": "111KEZossmpl"
   },
   "outputs": [],
   "source": [
    "# Create a copy of the image to modify\n",
    "modified_image = image_rgb.copy()\n",
    "\n",
    "# Replace red areas with blue\n",
    "# Red is dominant when the red channel is significantly higher than the green and blue channels\n",
    "red_mask = (modified_image[:, :, 0] >= 120)  & (modified_image[:, :, 1] < 120) & (modified_image[:, :, 2] < 120)\n",
    "# print(red_mask)\n",
    "\n",
    "# Replace red with blue in the modified image\n",
    "modified_image[red_mask] = [0, 0, 255]  # Set red areas to pure blue ([R, G, B] = [0, 0, 255])\n",
    "\n",
    "# Visualize the original and modified images\n",
    "plt.figure(figsize=(12, 6))\n",
    "\n",
    "# Original image\n",
    "plt.subplot(1, 2, 1)\n",
    "plt.imshow(image_rgb)\n",
    "plt.title(\"Original Image\")\n",
    "plt.axis('off')\n",
    "\n",
    "# Modified image\n",
    "plt.subplot(1, 2, 2)\n",
    "plt.imshow(modified_image)\n",
    "plt.title(\"Modified Image (Red -> Blue)\")\n",
    "plt.axis('off')\n",
    "\n",
    "plt.tight_layout()\n",
    "plt.show()"
   ]
  },
  {
   "attachments": {},
   "cell_type": "markdown",
   "metadata": {
    "id": "I7ILNRvsJ9fm"
   },
   "source": [
    "# Image Manipulation\n",
    "\n",
    "### **Exercise: Image Operators**\n",
    "\n",
    "*   You can find images 'model.png' and 'coat.png' in the images folder (First two images of the below visualization). Your task is to create an image from the given two images such a way that the model is wearing the coat (Third image in the visualization).\n",
    "*   You can also find different textures in the images folder. Your task is to change the coat texture to any one of the given textures.\n",
    "*   Visualize the images similar to the given visualization.\n",
    "\n",
    "*Hint: Think masks!!!*\n",
    "\n"
   ]
  },
  {
   "cell_type": "code",
   "execution_count": null,
   "metadata": {
    "id": "GVfOvZnCH4pK"
   },
   "outputs": [],
   "source": [
    "import cv2\n",
    "import numpy as np\n",
    "import matplotlib.pyplot as plt\n",
    "\n",
    "# Load the images\n",
    "file_path = './images/'\n",
    "model = cv2.imread(f'{file_path}model.png') # model\n",
    "coat = cv2.imread(f'{file_path}coat.png') # coat\n",
    "texture1 = cv2.imread(f'{file_path}texture.png')  # Texture 1\n",
    "texture2 = cv2.imread(f'{file_path}texture2.png')  # Texture 2\n",
    "texture3 = cv2.imread(f'{file_path}texture3.jpg')  # Texture 3\n",
    "\n",
    "# Convert images to RGB for visualization\n",
    "model_rgb = cv2.cvtColor(model, cv2.COLOR_BGR2RGB)\n",
    "coat_rgb = cv2.cvtColor(coat, cv2.COLOR_BGR2RGB)\n",
    "\n",
    "# Define a list to manipulate all textures\n",
    "# Store them in a list\n",
    "texture_list = [cv2.cvtColor(texture1, cv2.COLOR_BGR2RGB), cv2.cvtColor(texture2, cv2.COLOR_BGR2RGB),  cv2.cvtColor(texture3, cv2.COLOR_BGR2RGB)]\n",
    "\n",
    "# Resize the coat image to fit the model\n",
    "coat_resized = cv2.resize(coat_rgb, (model.shape[1], model.shape[0]))\n",
    "\n",
    "# Create a binary mask for the coat\n",
    "gray_coat = cv2.cvtColor(coat_resized, cv2.COLOR_RGB2GRAY)\n",
    "_, coat_mask = cv2.threshold(gray_coat, 10, 255, cv2.THRESH_BINARY)\n",
    "\n",
    "# Combine the model and coat using the mask\n",
    "model_with_coat = model_rgb.copy()\n",
    "model_with_coat[coat_mask == 255] = coat_resized[coat_mask == 255]\n",
    "\n",
    "textured_coat_list = []\n",
    "\n",
    "# Apply textures to the coat area\n",
    "for texture in texture_list:\n",
    "    texture_resized = cv2.resize(texture, (coat_resized.shape[1], coat_resized.shape[0]))\n",
    "    coat_with_texture = coat_resized.copy()\n",
    "    coat_with_texture[coat_mask == 255] = texture_resized[coat_mask == 255]\n",
    "\n",
    "    # Combine the model and textured coat\n",
    "    model_with_textured_coat = model_rgb.copy()\n",
    "    model_with_textured_coat[coat_mask == 255] = coat_with_texture[coat_mask == 255]    \n",
    "    \n",
    "    textured_coat_list.append(model_with_textured_coat)\n",
    "\n",
    "# Visualize the results\n",
    "plt.figure(figsize=(16, 8))\n",
    "\n",
    "# Original Coat\n",
    "plt.subplot(2, 3, 1)\n",
    "plt.imshow(coat_rgb)\n",
    "plt.title(\"Original Coat\")\n",
    "plt.axis('off')\n",
    "\n",
    "# Original Model\n",
    "plt.subplot(2, 3, 2)\n",
    "plt.imshow(model_rgb)\n",
    "plt.title(\"Original Model\")\n",
    "plt.axis('off')\n",
    "\n",
    "# Model with Coat\n",
    "plt.subplot(2, 3, 3)\n",
    "plt.imshow(model_with_coat)\n",
    "plt.title(\"Model Wearing Coat\")\n",
    "plt.axis('off')\n",
    "\n",
    "# Model with Textured Coat\n",
    "for index, textured_coat in enumerate(textured_coat_list):\n",
    "    plt.subplot(2, 3, 4 + index)\n",
    "    plt.imshow(textured_coat)\n",
    "    plt.title(f\"Model with Textured #{index + 1} Coat\")\n",
    "    plt.axis('off')\n",
    "\n",
    "plt.tight_layout()\n",
    "plt.show()"
   ]
  },
  {
   "cell_type": "markdown",
   "metadata": {
    "id": "aTEmlIhY0w46"
   },
   "source": [
    "# Contrast Enhancement\n",
    "\n",
    "### **Exercise: Histogram Computation**\n",
    "\n",
    "*   Read the **'astronaut' image** from data module.\n",
    "*   Convert the image to grayscale.\n",
    "*   Compute the **histogram of the image.** *Hint: histogram function is available in skimage.exposure package*\n",
    "*   Plot the histogram using matplotlib plot."
   ]
  },
  {
   "cell_type": "code",
   "execution_count": null,
   "metadata": {
    "id": "Pkh-HIjW2SBW"
   },
   "outputs": [],
   "source": [
    "import matplotlib.pyplot as plt\n",
    "from skimage import data, color, exposure\n",
    "\n",
    "# Load the 'astronaut' image\n",
    "astronaut = data.astronaut()\n",
    "\n",
    "# Convert the image to grayscale\n",
    "astronaut_gray = color.rgb2gray(astronaut)\n",
    "\n",
    "# Compute the histogram\n",
    "histogram, bin_edges = exposure.histogram(astronaut_gray)\n",
    "\n",
    "# Adjust the figure size and layout\n",
    "plt.figure(figsize=(18, 6))\n",
    "\n",
    "# Plot the original astronaut image\n",
    "# plt.subplot(1, 3, 1)\n",
    "# plt.imshow(astronaut)\n",
    "# plt.title(\"Original Astronaut\")\n",
    "# plt.axis('off')\n",
    "\n",
    "# Plot the grayscale astronaut image\n",
    "plt.subplot(1, 3, 2)\n",
    "plt.imshow(astronaut_gray, cmap='gray')\n",
    "plt.title(\"Grayscale Astronaut\")\n",
    "plt.axis('off')\n",
    "\n",
    "# Plot the histogram of the grayscale image\n",
    "plt.subplot(1, 3, 3)\n",
    "plt.bar(bin_edges, histogram, color='orange', label='Grayscale Histogram')\n",
    "plt.title(\"Histogram of Grayscale Image\")\n",
    "plt.xlabel(\"Pixel Intensity\")\n",
    "plt.ylabel(\"Frequency\")\n",
    "plt.grid(True)\n",
    "plt.legend()\n",
    "\n",
    "# Adjust the layout to avoid overlapping\n",
    "plt.tight_layout()\n",
    "plt.show()"
   ]
  },
  {
   "cell_type": "markdown",
   "metadata": {
    "id": "mIeB6eUYs-lR"
   },
   "source": [
    "*   Change the bin count to 8 and compute the histogram of the image and plot the computed histogram using matplotlib plot."
   ]
  },
  {
   "cell_type": "code",
   "execution_count": null,
   "metadata": {
    "id": "UXxj9_ZptB0_"
   },
   "outputs": [],
   "source": [
    "# Compute the histogram with 8 bins\n",
    "histogram, bin_edges = np.histogram(astronaut_gray, bins=8, range=(0, 1))\n",
    "\n",
    "# Adjust the figure size and layout\n",
    "plt.figure(figsize=(18, 6))\n",
    "\n",
    "# Plot the original astronaut image\n",
    "# plt.subplot(1, 3, 1)\n",
    "# plt.imshow(astronaut)\n",
    "# plt.title(\"Original Astronaut\")\n",
    "# plt.axis('off')\n",
    "\n",
    "# Plot the grayscale astronaut image\n",
    "plt.subplot(1, 3, 2)\n",
    "plt.imshow(astronaut_gray, cmap='gray')\n",
    "plt.title(\"Grayscale Astronaut\")\n",
    "plt.axis('off')\n",
    "\n",
    "# Plot the histogram of the grayscale image\n",
    "plt.subplot(1, 3, 3)\n",
    "bin_centers = (bin_edges[:-1] + bin_edges[1:]) / 2  # Compute bin centers for plotting\n",
    "plt.bar(bin_centers, histogram, color='orange', label='Grayscale Histogram')\n",
    "plt.title(\"Histogram of Grayscale Image (8 Bins)\")\n",
    "plt.xlabel(\"Pixel Intensity\")\n",
    "plt.ylabel(\"Frequency\")\n",
    "plt.grid(True)\n",
    "plt.legend()\n",
    "\n",
    "# Adjust the layout to avoid overlapping\n",
    "plt.tight_layout()\n",
    "plt.show()"
   ]
  },
  {
   "cell_type": "markdown",
   "metadata": {
    "id": "NyBcGEtEJXP_"
   },
   "source": [
    "\n",
    "\n",
    "*   What happens when you change the bin count? Does your inference change based on the bin count? If yes, then how do you define the correct bin count.\n",
    "*   What happens when the bin count is very low and what happens when it is very high?\n",
    "\n"
   ]
  },
  {
   "cell_type": "markdown",
   "metadata": {
    "id": "tw8L1ZKvKOvo"
   },
   "source": [
    "**Solution**\n",
    "\n",
    "1. What Happens When You Change the Bin Count?\n",
    "    - With Low Bin Count:\n",
    "        - When the bin count is low (e.g., 8 bins), the histogram groups a wide range of pixel intensities into each bin.\n",
    "        - This results in a less detailed histogram, which may oversimplify the data and obscure finer variations in pixel intensity distribution.\n",
    "        - Inference: Low bin count can lead to loss of information about subtle contrasts in the image.\n",
    "    - With High Bin Count:\n",
    "        - When the bin count is very high (e.g., 256 bins or more), each bin covers a very narrow range of pixel intensities.\n",
    "        - This results in a highly detailed histogram that can highlight subtle variations, but it may also introduce noise and make patterns harder to interpret.\n",
    "        - Inference: High bin count may create overly complex histograms that are harder to analyze.\n",
    " \n",
    "2. Does the Inference Change Based on Bin Count?\n",
    "    - Yes, the inference changes based on the bin count.\n",
    "        - Low Bin Count: Good for identifying general trends in pixel intensity distribution. Useful for a high-level summary but less precise for detailed analysis.\n",
    "        - High Bin Count: Provides precise details about pixel intensity distribution but may require smoothing or aggregation for interpretation.\n",
    " \n",
    "3. What happens when the bin count is very low and what happens when it is very high?\n",
    "    - Low Bin Count: Simpler but less detailed, useful for a quick overview.\n",
    "    - High Bin Count: Detailed but potentially noisy and harder to interpret.\n",
    "    - Correct Bin Count: Balance between detail and interpretability, usually decided based on the application (e.g., image processing, analysis, or visualization)."
   ]
  },
  {
   "cell_type": "markdown",
   "metadata": {
    "id": "4ecOWgER2U_n"
   },
   "source": [
    "\n",
    "*   Compute histogram of the color image (without converting it to grayscale).\n",
    "*   Plot the total histogram and also histogram for each channel (show it in a single plot with differnt legends for each histogram).\n"
   ]
  },
  {
   "cell_type": "code",
   "execution_count": null,
   "metadata": {
    "id": "0R425Nve2Til"
   },
   "outputs": [],
   "source": [
    "from skimage import data, exposure\n",
    "import matplotlib.pyplot as plt\n",
    "import numpy as np\n",
    "\n",
    "# Load the 'astronaut' image\n",
    "astronaut = data.astronaut()\n",
    "\n",
    "# Compute histograms for each channel (R, G, B)\n",
    "r_hist, r_bin_edges = exposure.histogram(astronaut[:, :, 0])\n",
    "g_hist, g_bin_edges = exposure.histogram(astronaut[:, :, 1])\n",
    "b_hist, b_bin_edges = exposure.histogram(astronaut[:, :, 2])\n",
    "\n",
    "# Compute the total histogram by summing the channels\n",
    "total_hist = r_hist + g_hist + b_hist\n",
    "\n",
    "# Define bin centers (assuming all channels have the same bin edges)\n",
    "bin_centers = r_bin_edges[:-1]\n",
    "\n",
    "# Plot the histograms\n",
    "plt.figure(figsize=(12, 6))\n",
    "\n",
    "# Plot total histogram\n",
    "plt.bar(g_bin_edges, total_hist, color='lightgray', label='Total Histogram', linewidth=1.5)\n",
    "\n",
    "# Plot histograms for each channel\n",
    "plt.bar(g_bin_edges, r_hist, color='red', label='Red Channel', linestyle='--')\n",
    "plt.bar(g_bin_edges, g_hist, color='green', label='Green Channel', linestyle='-.')\n",
    "plt.bar(g_bin_edges, b_hist, color='blue', label='Blue Channel', linestyle=':')\n",
    "\n",
    "# Add titles and labels\n",
    "plt.title(\"Histogram of the Color Image\")\n",
    "plt.xlabel(\"Pixel Intensity\")\n",
    "plt.ylabel(\"Frequency\")\n",
    "plt.legend()\n",
    "plt.grid(True)\n",
    "\n",
    "# Show the plot\n",
    "plt.tight_layout()\n",
    "plt.show()"
   ]
  },
  {
   "cell_type": "markdown",
   "metadata": {
    "id": "vr9af6my4uKv"
   },
   "source": [
    "### **Exercise: Histogram Equalization**\n",
    "\n",
    "*   Read 'aquatermi_lowcontrast.jpg' image from the images folder.\n",
    "*   Compute the histogram of the image.\n",
    "*   Perform histogram equalization of the image to enhance the contrast. *Hint: Use equalize_hist function available in skimage.exposure*\n",
    "*   Also compute histogram of the equalized image.\n",
    "*   Use 2 x 2 subplot to show the original image and the enhanced image along with the corresponding histograms.\n",
    "\n"
   ]
  },
  {
   "cell_type": "code",
   "execution_count": null,
   "metadata": {
    "id": "0ROMuC8F6IYf"
   },
   "outputs": [],
   "source": [
    "# Load the image\n",
    "image_path = \"images/aquatermi_lowcontrast.jpg\"\n",
    "low_contrast_image = io.imread(image_path)\n",
    "\n",
    "# Convert to grayscale if needed\n",
    "if len(low_contrast_image.shape) == 3:\n",
    "    low_contrast_image = color.rgb2gray(low_contrast_image)\n",
    "\n",
    "# Compute the histogram of the original image\n",
    "original_hist, original_bin_edges = exposure.histogram(low_contrast_image)\n",
    "\n",
    "# Perform histogram equalization\n",
    "equalized_image = exposure.equalize_hist(low_contrast_image)\n",
    "\n",
    "# Compute the histogram of the equalized image\n",
    "equalized_hist, equalized_bin_edges = exposure.histogram(equalized_image)\n",
    "\n",
    "# Create 2x2 subplots\n",
    "plt.figure(figsize=(12, 8))\n",
    "\n",
    "# Plot the original image\n",
    "plt.subplot(2, 2, 1)\n",
    "plt.imshow(low_contrast_image, cmap='gray')\n",
    "plt.title(\"Original Image\")\n",
    "plt.axis('off')\n",
    "\n",
    "# Plot the histogram of the grayscale image\n",
    "plt.subplot(2, 2, 2)\n",
    "# plt.bar(original_bin_edges, original_hist, width=(original_bin_edges[1] - original_bin_edges[0]), color='gray')\n",
    "plt.bar(original_bin_edges, original_hist,  color='gray')\n",
    "plt.title(\"Histogram of Original Image\")\n",
    "plt.xlabel(\"Pixel Intensity\")\n",
    "plt.ylabel(\"Frequency\")\n",
    "\n",
    "\n",
    "# Plot the equalized image\n",
    "plt.subplot(2, 2, 3)\n",
    "plt.imshow(equalized_image, cmap='gray')\n",
    "plt.title(\"Equalized Image\")\n",
    "plt.axis('off')\n",
    "\n",
    "# Plot the histogram of the grayscale image\n",
    "plt.subplot(2, 2, 4)\n",
    "plt.bar(equalized_bin_edges, equalized_hist, color='lightgray')\n",
    "plt.title(\"Histogram of Equalized Image\")\n",
    "plt.xlabel(\"Pixel Intensity\")\n",
    "plt.ylabel(\"Frequency\")\n",
    "\n",
    "# Adjust layout to avoid overlap\n",
    "plt.tight_layout()\n",
    "plt.show()"
   ]
  },
  {
   "cell_type": "markdown",
   "metadata": {
    "id": "IvDnkRKA8PXe"
   },
   "source": [
    "\n",
    "*   The above function in skimage.exposure uses cdf and interpolation technique to normalize the histogram. How is it different from linear contrast stretch?\n"
   ]
  },
  {
   "cell_type": "markdown",
   "metadata": {
    "id": "JOCa3PzJLhl0"
   },
   "source": [
    "**Solution**\n",
    "\n",
    "- Histogram Equalization (using CDF and interpolation):\n",
    "    - The pixel intensities are non-linearly redistributed to enhance contrast.\n",
    "    - The resulting histogram becomes more uniform, spreading intensities across the entire range.\n",
    "    - Improves local contrast in areas with a dense intensity distribution.\n",
    "- Linear Contrast Stretching:\n",
    "    - All pixel intensities are linearly scaled to occupy the full dynamic range.\n",
    "    - Retains the relative differences between pixel intensities (no redistribution).\n",
    "    - Expands contrast globally, but does not enhance local contrast."
   ]
  },
  {
   "cell_type": "markdown",
   "metadata": {
    "id": "boFCTwGV8kaz"
   },
   "source": [
    "### **Exercise: Linear Contrast Stretch**\n",
    "\n",
    "*   Write a function to compute the linear contrast stretch (Do not use an inbuilt function). \n",
    "*   Provide grayscale image array and bin count as parameters to the function and return the enhanced image array.\n",
    "*   Use a 2 x 2 plot to visualize the original image, histogram, enhanced image and the corresponding histogram.\n",
    "\n"
   ]
  },
  {
   "cell_type": "code",
   "execution_count": null,
   "metadata": {
    "id": "l6mlhI_s8lLv"
   },
   "outputs": [],
   "source": [
    "import numpy as np\n",
    "import matplotlib.pyplot as plt\n",
    "from skimage import exposure, io, color\n",
    "\n",
    "def linear_contrast_stretch(image_array, bins=256):\n",
    "    \"\"\"\n",
    "    Perform Linear Contrast Stretching on a grayscale image.\n",
    "\n",
    "    Parameters:\n",
    "    - image_array: Grayscale image as a numpy array.\n",
    "    - bins: Number of bins for the histogram.\n",
    "\n",
    "    Returns:\n",
    "    - enhanced_image: Image after applying linear contrast stretch.\n",
    "    \"\"\"\n",
    "    # Find the minimum and maximum pixel intensities\n",
    "    I_min = np.min(image_array)\n",
    "    I_max = np.max(image_array)\n",
    "\n",
    "    # Apply the linear transformation to stretch contrast\n",
    "    enhanced_image = (image_array - I_min) / (I_max - I_min)  # Normalize to [0, 1]\n",
    "    \n",
    "    return enhanced_image\n",
    "\n",
    "\n",
    "# Load the image and convert to grayscale if necessary\n",
    "image_path = \"images/aquatermi_lowcontrast.jpg\"\n",
    "low_contrast_image = io.imread(image_path)\n",
    "\n",
    "if len(low_contrast_image.shape) == 3:\n",
    "    low_contrast_image = color.rgb2gray(low_contrast_image)\n",
    "\n",
    "# Perform linear contrast stretch\n",
    "enhanced_image = linear_contrast_stretch(low_contrast_image)\n",
    "\n",
    "# Compute histograms for the original and enhanced images\n",
    "original_hist, original_bin_edges = exposure.histogram(low_contrast_image)\n",
    "enhanced_hist, enhanced_bin_edges = exposure.histogram(enhanced_image)\n",
    "\n",
    "# Plot the results\n",
    "plt.figure(figsize=(12, 8))\n",
    "\n",
    "# Plot original image\n",
    "plt.subplot(2, 2, 1)\n",
    "plt.imshow(low_contrast_image, cmap='gray')\n",
    "plt.title(\"Original Image\")\n",
    "plt.axis('off')\n",
    "\n",
    "# Plot histogram of the original image\n",
    "plt.subplot(2, 2, 2)\n",
    "plt.bar(original_bin_edges, original_hist, width=(original_bin_edges[1] - original_bin_edges[0]), color='gray')\n",
    "plt.title(\"Histogram of Original Image\")\n",
    "plt.xlabel(\"Pixel Intensity\")\n",
    "plt.ylabel(\"Frequency\")\n",
    "\n",
    "# Plot enhanced image\n",
    "plt.subplot(2, 2, 3)\n",
    "plt.imshow(enhanced_image, cmap='gray')\n",
    "plt.title(\"Enhanced Image (Linear Contrast Stretch)\")\n",
    "plt.axis('off')\n",
    "\n",
    "# Plot histogram of the enhanced image\n",
    "plt.subplot(2, 2, 4)\n",
    "plt.bar(enhanced_bin_edges, enhanced_hist, width=(enhanced_bin_edges[1] - enhanced_bin_edges[0]), color='lightgray')\n",
    "plt.title(\"Histogram of Enhanced Image\")\n",
    "plt.xlabel(\"Pixel Intensity\")\n",
    "plt.ylabel(\"Frequency\")\n",
    "\n",
    "# Adjust layout to avoid overlap\n",
    "plt.tight_layout()\n",
    "plt.show()"
   ]
  },
  {
   "cell_type": "markdown",
   "metadata": {
    "id": "lfuWqX2BWyXm"
   },
   "source": [
    "# Filters\n",
    "\n",
    "### **Exercise: Mean Filter**\n",
    "\n",
    "*   Load the **coins** image from the data module.\n",
    "*   Define a disk structuring element (selem) of radius 20. *Hint: Structuring elements are defined in the skimage.morphology module*\n",
    "*   Use mean filter using the created selem. *Hint: The mean filter is available in skimage.filters.rank module*\n",
    "*   Increase the radius of the selem by 10 and apply the mean filter.\n",
    "*   Reduce the radius of the selem by 10 and apply the mean filter.\n",
    "*   Visualize all the smoothened images along with the original image.\n",
    "\n",
    "\n"
   ]
  },
  {
   "cell_type": "code",
   "execution_count": null,
   "metadata": {
    "id": "qp7_zxDjL7vS"
   },
   "outputs": [],
   "source": [
    "from skimage import data, filters, morphology, color\n",
    "import matplotlib.pyplot as plt\n",
    "import numpy as np\n",
    "\n",
    "# Load the coins image from the skimage data module\n",
    "coins_image = data.coins()\n",
    "\n",
    "# Ensure the image is grayscale\n",
    "coins_image = color.rgb2gray(coins_image) if len(coins_image.shape) == 3 else coins_image\n",
    "\n",
    "# Define disk structuring elements with different radii\n",
    "footprint_20 = morphology.disk(20)  # Radius 20\n",
    "footprint_30 = morphology.disk(30)  # Radius 20 + 10\n",
    "footprint_10 = morphology.disk(10)  # Radius 20 - 10\n",
    "\n",
    "# Apply mean filters with the different structuring elements\n",
    "mean_filter_20 = filters.rank.mean(coins_image.astype(np.uint8), footprint=footprint_20)\n",
    "mean_filter_30 = filters.rank.mean(coins_image.astype(np.uint8), footprint=footprint_30)\n",
    "mean_filter_10 = filters.rank.mean(coins_image.astype(np.uint8), footprint=footprint_10)\n",
    "\n",
    "# Plot original image and smoothened images\n",
    "plt.figure(figsize=(12, 8))\n",
    "\n",
    "# Original image\n",
    "plt.subplot(2, 2, 1)\n",
    "plt.imshow(coins_image, cmap='gray')\n",
    "plt.title(\"Original Image\")\n",
    "plt.axis('off')\n",
    "\n",
    "# Mean filter with radius 20\n",
    "plt.subplot(2, 2, 2)\n",
    "plt.imshow(mean_filter_20, cmap='gray')\n",
    "plt.title(\"Mean Filter (Radius 20)\")\n",
    "plt.axis('off')\n",
    "\n",
    "# Mean filter with radius 30\n",
    "plt.subplot(2, 2, 3)\n",
    "plt.imshow(mean_filter_30, cmap='gray')\n",
    "plt.title(\"Mean Filter (Radius 30)\")\n",
    "plt.axis('off')\n",
    "\n",
    "# Mean filter with radius 10\n",
    "plt.subplot(2, 2, 4)\n",
    "plt.imshow(mean_filter_10, cmap='gray')\n",
    "plt.title(\"Mean Filter (Radius 10)\")\n",
    "plt.axis('off')\n",
    "\n",
    "# Adjust layout to avoid overlap\n",
    "plt.tight_layout()\n",
    "plt.show()"
   ]
  },
  {
   "cell_type": "markdown",
   "metadata": {
    "id": "7DIOQCcsvEqG"
   },
   "source": [
    "*   Use different selem (square, rectangle, star, diamond) to view the behaviour of the mean filter (It is not necessary to repeat with different sizes; it is sufficient to show the one with optimal parameter).\n",
    "*   Create a 2 x n subplot to show the selem in the first row and the corresponding smoothened image in the second row."
   ]
  },
  {
   "cell_type": "code",
   "execution_count": null,
   "metadata": {
    "id": "3GbQXmYvvXUO"
   },
   "outputs": [],
   "source": [
    "from skimage import data, filters, morphology, color\n",
    "import matplotlib.pyplot as plt\n",
    "import numpy as np\n",
    "\n",
    "# Load the coins image from the skimage data module\n",
    "coins_image = data.coins()\n",
    "\n",
    "# Ensure the image is grayscale\n",
    "coins_image = color.rgb2gray(coins_image) if len(coins_image.shape) == 3 else coins_image\n",
    "\n",
    "# Define different structuring elements\n",
    "selems = {\n",
    "    \"Square\": morphology.square(20),\n",
    "    \"Rectangle\": morphology.rectangle(20, 30),\n",
    "    \"Star\": morphology.star(20),\n",
    "    \"Diamond\": morphology.diamond(20)\n",
    "}\n",
    "\n",
    "# Apply mean filters using the structuring elements\n",
    "filtered_images = {name: filters.rank.mean(coins_image.astype(np.uint8), footprint=selem)\n",
    "                   for name, selem in selems.items()}\n",
    "\n",
    "# Create a 2xN subplot (first row: selem visualization, second row: filtered image)\n",
    "plt.figure(figsize=(15, 8))\n",
    "\n",
    "# Plot the structuring elements\n",
    "for i, (name, selem) in enumerate(selems.items(), start=1):\n",
    "    # Plot the structuring element\n",
    "    plt.subplot(2, len(selems), i)\n",
    "    plt.imshow(selem, cmap='gray')\n",
    "    plt.title(f\"{name} Selem\")\n",
    "    plt.axis('off')\n",
    "\n",
    "    # Plot the filtered image\n",
    "    plt.subplot(2, len(selems), i + len(selems))\n",
    "    plt.imshow(filtered_images[name], cmap='gray')\n",
    "    plt.title(f\"{name} Filtered\")\n",
    "    plt.axis('off')\n",
    "\n",
    "# Adjust layout to avoid overlap\n",
    "plt.tight_layout()\n",
    "plt.show()"
   ]
  },
  {
   "cell_type": "markdown",
   "metadata": {
    "id": "jV7OHQwKZ9GU"
   },
   "source": [
    "*   How does changing the radius of disk affect the smoothing functionality?"
   ]
  },
  {
   "cell_type": "markdown",
   "metadata": {
    "id": "QG91LBzwMBUR"
   },
   "source": [
    "**Solution**\n",
    "\n",
    "The radius of the disk balances noise reduction and detail preservation:\n",
    "Small radius: Minimal noise reduction, sharp edges.\n",
    "Large radius: Significant noise reduction, blurred edges.\n",
    "The optimal radius depends on the application's requirements, such as whether preserving details or reducing noise is more important."
   ]
  },
  {
   "cell_type": "markdown",
   "metadata": {
    "id": "mPJFLYMkMBqs"
   },
   "source": [
    "\n",
    "*   What is the observed behaviour with difference in the structuring element?\n",
    "\n"
   ]
  },
  {
   "cell_type": "markdown",
   "metadata": {
    "id": "hcJkpvnjMFY5"
   },
   "source": [
    "**Solution**\n",
    "\n",
    "The choice of the structuring element affects both smoothing and edge/detail preservation. Disk and diamond are generally better for natural images, while square and rectangle are better for structured images. The star is suitable for edge-sensitive tasks. The best choice depends on the specific requirements of the application."
   ]
  },
  {
   "cell_type": "markdown",
   "metadata": {
    "id": "v5hySxTKM4AB"
   },
   "source": [
    "\n",
    "\n",
    "*   What is the difference between mean filter and gaussian filter?\n",
    "*   Where do you use mean filters and where do you use gaussian filters?\n",
    "\n"
   ]
  },
  {
   "cell_type": "markdown",
   "metadata": {
    "id": "w0foSx_GNDB5"
   },
   "source": [
    "**Solution**\n",
    "\n",
    "- Mean Filter: A simple, fast filter suitable for removing random noise at the cost of blurring edges.\n",
    "- Gaussian Filter: A more sophisticated filter that balances noise reduction and edge preservation, making it ideal for applications requiring fine detail retention. The choice depends on the type of noise, the image characteristics, and the application requirements."
   ]
  }
 ],
 "metadata": {
  "colab": {
   "authorship_tag": "ABX9TyPs+7OmQKl06bCVLggAj4BU",
   "collapsed_sections": [],
   "provenance": []
  },
  "kernelspec": {
   "display_name": "Python (base)",
   "language": "python",
   "name": "base"
  },
  "language_info": {
   "codemirror_mode": {
    "name": "ipython",
    "version": 3
   },
   "file_extension": ".py",
   "mimetype": "text/x-python",
   "name": "python",
   "nbconvert_exporter": "python",
   "pygments_lexer": "ipython3",
   "version": "3.12.2"
  }
 },
 "nbformat": 4,
 "nbformat_minor": 4
}
